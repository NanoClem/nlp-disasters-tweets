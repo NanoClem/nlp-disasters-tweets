{
 "cells": [
  {
   "attachments": {},
   "cell_type": "markdown",
   "metadata": {},
   "source": [
    "# Disaster tweets EDA"
   ]
  },
  {
   "cell_type": "code",
   "execution_count": 1,
   "metadata": {},
   "outputs": [],
   "source": [
    "import re\n",
    "\n",
    "import numpy as np\n",
    "import pandas as pd\n",
    "\n",
    "import matplotlib.pyplot as plt\n",
    "import seaborn as sns\n",
    "import plotly_express as px\n",
    "\n",
    "import nltk\n",
    "from nltk.corpus import stopwords\n",
    "from nltk.stem import WordNetLemmatizer\n",
    "\n",
    "from tqdm.notebook import tqdm\n",
    "\n",
    "pd.set_option(\"display.max_colwidth\", None)\n",
    "pd.set_option(\"display.max_rows\", 50)\n",
    "sns.set_style(\"darkgrid\")\n",
    "sns.set_palette(\"colorblind\")"
   ]
  },
  {
   "cell_type": "code",
   "execution_count": 2,
   "metadata": {},
   "outputs": [],
   "source": [
    "#!poetry add -D 'git+https://github.com/dnanhkhoa/nb_black.git@be0c810503867abc4a5e9d05ba75a16fce57dfee'\n",
    "%load_ext lab_black"
   ]
  },
  {
   "attachments": {},
   "cell_type": "markdown",
   "metadata": {},
   "source": [
    "## Import dataset"
   ]
  },
  {
   "cell_type": "code",
   "execution_count": 3,
   "metadata": {},
   "outputs": [],
   "source": [
    "dtypes = {\n",
    "    \"id\": np.int16,\n",
    "    \"target\": np.int8,\n",
    "    \"location\": str,\n",
    "    \"keyword\": str,\n",
    "    \"text\": str,\n",
    "}\n",
    "\n",
    "df_train = pd.read_csv(\"./data/train.csv\", dtype=dtypes)"
   ]
  },
  {
   "cell_type": "code",
   "execution_count": 4,
   "metadata": {},
   "outputs": [
    {
     "name": "stdout",
     "output_type": "stream",
     "text": [
      "<class 'pandas.core.frame.DataFrame'>\n",
      "RangeIndex: 7613 entries, 0 to 7612\n",
      "Data columns (total 5 columns):\n",
      " #   Column    Non-Null Count  Dtype \n",
      "---  ------    --------------  ----- \n",
      " 0   id        7613 non-null   int16 \n",
      " 1   keyword   7552 non-null   object\n",
      " 2   location  5080 non-null   object\n",
      " 3   text      7613 non-null   object\n",
      " 4   target    7613 non-null   int8  \n",
      "dtypes: int16(1), int8(1), object(3)\n",
      "memory usage: 200.9+ KB\n"
     ]
    },
    {
     "data": {
      "text/html": [
       "<div>\n",
       "<style scoped>\n",
       "    .dataframe tbody tr th:only-of-type {\n",
       "        vertical-align: middle;\n",
       "    }\n",
       "\n",
       "    .dataframe tbody tr th {\n",
       "        vertical-align: top;\n",
       "    }\n",
       "\n",
       "    .dataframe thead th {\n",
       "        text-align: right;\n",
       "    }\n",
       "</style>\n",
       "<table border=\"1\" class=\"dataframe\">\n",
       "  <thead>\n",
       "    <tr style=\"text-align: right;\">\n",
       "      <th></th>\n",
       "      <th>id</th>\n",
       "      <th>keyword</th>\n",
       "      <th>location</th>\n",
       "      <th>text</th>\n",
       "      <th>target</th>\n",
       "    </tr>\n",
       "  </thead>\n",
       "  <tbody>\n",
       "    <tr>\n",
       "      <th>0</th>\n",
       "      <td>1</td>\n",
       "      <td>NaN</td>\n",
       "      <td>NaN</td>\n",
       "      <td>Our Deeds are the Reason of this #earthquake May ALLAH Forgive us all</td>\n",
       "      <td>1</td>\n",
       "    </tr>\n",
       "    <tr>\n",
       "      <th>1</th>\n",
       "      <td>4</td>\n",
       "      <td>NaN</td>\n",
       "      <td>NaN</td>\n",
       "      <td>Forest fire near La Ronge Sask. Canada</td>\n",
       "      <td>1</td>\n",
       "    </tr>\n",
       "    <tr>\n",
       "      <th>2</th>\n",
       "      <td>5</td>\n",
       "      <td>NaN</td>\n",
       "      <td>NaN</td>\n",
       "      <td>All residents asked to 'shelter in place' are being notified by officers. No other evacuation or shelter in place orders are expected</td>\n",
       "      <td>1</td>\n",
       "    </tr>\n",
       "    <tr>\n",
       "      <th>3</th>\n",
       "      <td>6</td>\n",
       "      <td>NaN</td>\n",
       "      <td>NaN</td>\n",
       "      <td>13,000 people receive #wildfires evacuation orders in California</td>\n",
       "      <td>1</td>\n",
       "    </tr>\n",
       "    <tr>\n",
       "      <th>4</th>\n",
       "      <td>7</td>\n",
       "      <td>NaN</td>\n",
       "      <td>NaN</td>\n",
       "      <td>Just got sent this photo from Ruby #Alaska as smoke from #wildfires pours into a school</td>\n",
       "      <td>1</td>\n",
       "    </tr>\n",
       "  </tbody>\n",
       "</table>\n",
       "</div>"
      ],
      "text/plain": [
       "   id keyword location  \\\n",
       "0   1     NaN      NaN   \n",
       "1   4     NaN      NaN   \n",
       "2   5     NaN      NaN   \n",
       "3   6     NaN      NaN   \n",
       "4   7     NaN      NaN   \n",
       "\n",
       "                                                                                                                                    text  \\\n",
       "0                                                                  Our Deeds are the Reason of this #earthquake May ALLAH Forgive us all   \n",
       "1                                                                                                 Forest fire near La Ronge Sask. Canada   \n",
       "2  All residents asked to 'shelter in place' are being notified by officers. No other evacuation or shelter in place orders are expected   \n",
       "3                                                                      13,000 people receive #wildfires evacuation orders in California    \n",
       "4                                               Just got sent this photo from Ruby #Alaska as smoke from #wildfires pours into a school    \n",
       "\n",
       "   target  \n",
       "0       1  \n",
       "1       1  \n",
       "2       1  \n",
       "3       1  \n",
       "4       1  "
      ]
     },
     "execution_count": 4,
     "metadata": {},
     "output_type": "execute_result"
    }
   ],
   "source": [
    "df_train.info()\n",
    "df_train.head()"
   ]
  },
  {
   "attachments": {},
   "cell_type": "markdown",
   "metadata": {},
   "source": [
    "## Missing values"
   ]
  },
  {
   "attachments": {},
   "cell_type": "markdown",
   "metadata": {},
   "source": [
    "- `location` has ~33% missing values.\n",
    "- `keyword` has ~1% missing values."
   ]
  },
  {
   "cell_type": "code",
   "execution_count": 5,
   "metadata": {},
   "outputs": [
    {
     "data": {
      "image/png": "[encoded data removed]",
      "text/plain": [
       "<Figure size 640x480 with 1 Axes>"
      ]
     },
     "metadata": {},
     "output_type": "display_data"
    }
   ],
   "source": [
    "ax = (1 - df_train.isna().sum() / df_train.shape[0]).plot(kind=\"bar\", rot=0)\n",
    "\n",
    "plt.bar_label(\n",
    "    container=ax.containers[0],\n",
    "    labels=[np.round(val, 2) for val in ax.containers[0].datavalues],\n",
    ")\n",
    "plt.show()"
   ]
  },
  {
   "attachments": {},
   "cell_type": "markdown",
   "metadata": {},
   "source": [
    "## Target distribution"
   ]
  },
  {
   "attachments": {},
   "cell_type": "markdown",
   "metadata": {},
   "source": [
    "There are less tweets about real disasters."
   ]
  },
  {
   "cell_type": "code",
   "execution_count": 6,
   "metadata": {},
   "outputs": [
    {
     "data": {
      "image/png": "[encoded data removed]",
      "text/plain": [
       "<Figure size 640x480 with 1 Axes>"
      ]
     },
     "metadata": {},
     "output_type": "display_data"
    }
   ],
   "source": [
    "ax = df_train[\"target\"].value_counts().plot.bar(rot=0, color=[\"tab:blue\", \"tab:red\"])\n",
    "\n",
    "plt.title(\"Target class distribution\")\n",
    "plt.bar_label(\n",
    "    ax.containers[0],\n",
    "    labels=[val for val in ax.containers[0].datavalues],\n",
    ")\n",
    "plt.tight_layout()\n",
    "plt.show()"
   ]
  },
  {
   "attachments": {},
   "cell_type": "markdown",
   "metadata": {},
   "source": [
    "## Preprocessing"
   ]
  },
  {
   "attachments": {},
   "cell_type": "markdown",
   "metadata": {},
   "source": [
    "### Extract extra informations in tweets text"
   ]
  },
  {
   "cell_type": "code",
   "execution_count": 7,
   "metadata": {},
   "outputs": [],
   "source": [
    "regex_map = {\n",
    "    \"hashtag\": r\"#\\w+\",\n",
    "    \"link\": r\"\\S*https?:\\S*\",\n",
    "    \"mention\": r\"@\\w+\",\n",
    "}\n",
    "\n",
    "\n",
    "def get_matches_str(text: str, pattern: str, skip: int = 1) -> str:\n",
    "    \"\"\"Find substrings matching a given pattern and concat them into a new string.\n",
    "    If no match is found, returns 'no'.\n",
    "    \"\"\"\n",
    "    matches = re.finditer(pattern, text)\n",
    "    return \" \".join([match.group(0)[skip:] for match in matches]) or \"no\"\n",
    "\n",
    "\n",
    "def extract_tweet_infos(df: pd.DataFrame) -> pd.DataFrame:\n",
    "    \"\"\"d\"\"\"\n",
    "    df_t = df.copy()\n",
    "\n",
    "    for info in [\"hashtag\", \"link\", \"mention\"]:\n",
    "        skip = 0 if info == \"link\" else 1\n",
    "        df_t[info] = df_t[\"text\"].apply(\n",
    "            lambda x: get_matches_str(x, pattern=regex_map.get(info), skip=skip)\n",
    "        )\n",
    "\n",
    "    return df_t"
   ]
  },
  {
   "attachments": {},
   "cell_type": "markdown",
   "metadata": {},
   "source": [
    "### Text cleaning"
   ]
  },
  {
   "cell_type": "code",
   "execution_count": 8,
   "metadata": {},
   "outputs": [],
   "source": [
    "def clean_text(text: str) -> str:\n",
    "    \"\"\"Apply preprocessing on text string.\"\"\"\n",
    "    text_lower = text.lower()\n",
    "    text_no_link = re.sub(r\"\\S*https?:\\S*\", \"\", text_lower)\n",
    "    text_no_special = re.sub(\n",
    "        r\"[^\\w\\d\\s]\", \"\", text_no_link\n",
    "    )  # remove punctuation and special chars\n",
    "    text_no_hashtag = re.sub(r\"#\", \"\", text_no_special)\n",
    "    text_monospace = re.sub(\"\\s+\", \" \", text_no_hashtag).strip()\n",
    "\n",
    "    return text_monospace"
   ]
  },
  {
   "cell_type": "code",
   "execution_count": 9,
   "metadata": {},
   "outputs": [
    {
     "name": "stdout",
     "output_type": "stream",
     "text": [
      "Pre-cleaning ---------- Deputies: Man shot before Brighton home set ablaze http://t.co/gWNRhMSO8k\n",
      "Post-cleaning ---------- deputies man shot before brighton home set ablaze\n"
     ]
    }
   ],
   "source": [
    "example = df_train[\"text\"][50]\n",
    "print(f\"Pre-cleaning {'':-<10} {example}\")\n",
    "print(f\"Post-cleaning {'':-<10} {clean_text(example)}\")"
   ]
  },
  {
   "attachments": {},
   "cell_type": "markdown",
   "metadata": {},
   "source": [
    "### NLP preprocessing"
   ]
  },
  {
   "cell_type": "code",
   "execution_count": 10,
   "metadata": {},
   "outputs": [],
   "source": [
    "stop_words = set(stopwords.words(\"english\"))\n",
    "lemmatizer = WordNetLemmatizer()\n",
    "\n",
    "pos_map = {\n",
    "    \"NN\": \"n\",\n",
    "    \"NNP\": \"n\",\n",
    "    \"NNPS\": \"n\",\n",
    "    \"NNS\": \"n\",\n",
    "    \"VB\": \"v\",\n",
    "    \"VBD\": \"v\",\n",
    "    \"VBG\": \"v\",\n",
    "    \"VBN\": \"v\",\n",
    "    \"VBP\": \"v\",\n",
    "    \"VBZ\": \"v\",\n",
    "    \"JJ\": \"a\",\n",
    "    \"JJR\": \"a\",\n",
    "    \"JJS\": \"a\",\n",
    "    \"RB\": \"r\",\n",
    "    \"RBR\": \"r\",\n",
    "    \"RBS\": \"r\",\n",
    "}\n",
    "\n",
    "\n",
    "def nlp_preprocess(text: str) -> str:\n",
    "    # Tokenise each word, remove stop words and tag them\n",
    "    tokens = nltk.word_tokenize(text)\n",
    "    filtered_tokens = [word for word in tokens if word not in stop_words]\n",
    "    tags = nltk.pos_tag(filtered_tokens)\n",
    "\n",
    "    # Lemmatization\n",
    "    lem_words = []\n",
    "    for tag in tags:\n",
    "        pos = pos_map.get(tag[1], \"n\")  # map word tag to lem pos\n",
    "        lem_words.append(lemmatizer.lemmatize(tag[0], pos=pos))\n",
    "\n",
    "    return \" \".join(lem_words)"
   ]
  },
  {
   "cell_type": "code",
   "execution_count": 11,
   "metadata": {},
   "outputs": [
    {
     "name": "stdout",
     "output_type": "stream",
     "text": [
      "Pre-nlp ---------- deputies man shot before brighton home set ablaze\n",
      "Post-nlp ---------- deputy man shoot brighton home set ablaze\n"
     ]
    }
   ],
   "source": [
    "print(f\"Pre-nlp {'':-<10} {clean_text(example)}\")\n",
    "print(f\"Post-nlp {'':-<10} {nlp_preprocess(clean_text(example))}\")"
   ]
  },
  {
   "attachments": {},
   "cell_type": "markdown",
   "metadata": {},
   "source": [
    "### Preprocessing and cleaning \"pipeline\""
   ]
  },
  {
   "cell_type": "code",
   "execution_count": 34,
   "metadata": {},
   "outputs": [],
   "source": [
    "def preprocessing_pipeline(df: pd.DataFrame):\n",
    "    \"\"\"Prepare the dataset for modeling and futher analysis.\"\"\"\n",
    "    df_prep = df.copy()\n",
    "\n",
    "    # Pre-cleaning\n",
    "    df_prep = df_prep.drop(\"location\", axis=1)\n",
    "    df_prep[\"keyword\"] = df_prep[\"keyword\"].str.replace(\"%20\", \" \")\n",
    "\n",
    "    # Feature engineering\n",
    "    df_prep = extract_tweet_infos(df_prep)\n",
    "\n",
    "    # Text cleaning\n",
    "    df_prep[\"text\"] = df_prep[\"text\"].apply(clean_text)\n",
    "\n",
    "    # NLP preprocessing\n",
    "    df_prep[\"text\"] = df_prep[\"text\"].apply(nlp_preprocess)\n",
    "\n",
    "    return df_prep\n",
    "\n",
    "\n",
    "df_prep = preprocessing_pipeline(df_train)"
   ]
  },
  {
   "cell_type": "code",
   "execution_count": 36,
   "metadata": {},
   "outputs": [
    {
     "data": {
      "text/html": [
       "<div>\n",
       "<style scoped>\n",
       "    .dataframe tbody tr th:only-of-type {\n",
       "        vertical-align: middle;\n",
       "    }\n",
       "\n",
       "    .dataframe tbody tr th {\n",
       "        vertical-align: top;\n",
       "    }\n",
       "\n",
       "    .dataframe thead th {\n",
       "        text-align: right;\n",
       "    }\n",
       "</style>\n",
       "<table border=\"1\" class=\"dataframe\">\n",
       "  <thead>\n",
       "    <tr style=\"text-align: right;\">\n",
       "      <th></th>\n",
       "      <th>id</th>\n",
       "      <th>keyword</th>\n",
       "      <th>text</th>\n",
       "      <th>target</th>\n",
       "      <th>hashtag</th>\n",
       "      <th>link</th>\n",
       "      <th>mention</th>\n",
       "    </tr>\n",
       "  </thead>\n",
       "  <tbody>\n",
       "    <tr>\n",
       "      <th>0</th>\n",
       "      <td>1</td>\n",
       "      <td>NaN</td>\n",
       "      <td>deed reason earthquake may allah forgive u</td>\n",
       "      <td>1</td>\n",
       "      <td>earthquake</td>\n",
       "      <td>no</td>\n",
       "      <td>no</td>\n",
       "    </tr>\n",
       "    <tr>\n",
       "      <th>1</th>\n",
       "      <td>4</td>\n",
       "      <td>NaN</td>\n",
       "      <td>forest fire near la ronge sask canada</td>\n",
       "      <td>1</td>\n",
       "      <td>no</td>\n",
       "      <td>no</td>\n",
       "      <td>no</td>\n",
       "    </tr>\n",
       "    <tr>\n",
       "      <th>2</th>\n",
       "      <td>5</td>\n",
       "      <td>NaN</td>\n",
       "      <td>resident ask shelter place notify officer evacuation shelter place order expect</td>\n",
       "      <td>1</td>\n",
       "      <td>no</td>\n",
       "      <td>no</td>\n",
       "      <td>no</td>\n",
       "    </tr>\n",
       "    <tr>\n",
       "      <th>3</th>\n",
       "      <td>6</td>\n",
       "      <td>NaN</td>\n",
       "      <td>13000 people receive wildfire evacuation order california</td>\n",
       "      <td>1</td>\n",
       "      <td>wildfires</td>\n",
       "      <td>no</td>\n",
       "      <td>no</td>\n",
       "    </tr>\n",
       "    <tr>\n",
       "      <th>4</th>\n",
       "      <td>7</td>\n",
       "      <td>NaN</td>\n",
       "      <td>get sent photo ruby alaska smoke wildfires pour school</td>\n",
       "      <td>1</td>\n",
       "      <td>Alaska wildfires</td>\n",
       "      <td>no</td>\n",
       "      <td>no</td>\n",
       "    </tr>\n",
       "  </tbody>\n",
       "</table>\n",
       "</div>"
      ],
      "text/plain": [
       "   id keyword  \\\n",
       "0   1     NaN   \n",
       "1   4     NaN   \n",
       "2   5     NaN   \n",
       "3   6     NaN   \n",
       "4   7     NaN   \n",
       "\n",
       "                                                                              text  \\\n",
       "0                                       deed reason earthquake may allah forgive u   \n",
       "1                                            forest fire near la ronge sask canada   \n",
       "2  resident ask shelter place notify officer evacuation shelter place order expect   \n",
       "3                        13000 people receive wildfire evacuation order california   \n",
       "4                           get sent photo ruby alaska smoke wildfires pour school   \n",
       "\n",
       "   target           hashtag link mention  \n",
       "0       1        earthquake   no      no  \n",
       "1       1                no   no      no  \n",
       "2       1                no   no      no  \n",
       "3       1         wildfires   no      no  \n",
       "4       1  Alaska wildfires   no      no  "
      ]
     },
     "execution_count": 36,
     "metadata": {},
     "output_type": "execute_result"
    }
   ],
   "source": [
    "df_prep.head()"
   ]
  },
  {
   "attachments": {},
   "cell_type": "markdown",
   "metadata": {},
   "source": [
    "## Features analysis"
   ]
  },
  {
   "attachments": {},
   "cell_type": "markdown",
   "metadata": {},
   "source": [
    "### Keywords"
   ]
  },
  {
   "attachments": {},
   "cell_type": "markdown",
   "metadata": {},
   "source": [
    "Top words for each target class"
   ]
  },
  {
   "cell_type": "code",
   "execution_count": null,
   "metadata": {},
   "outputs": [],
   "source": []
  },
  {
   "attachments": {},
   "cell_type": "markdown",
   "metadata": {},
   "source": [
    "Measurement of keywords association with real disasters.  \n",
    "The more a keyword value gets close to 1, the more it is associated to a real accident."
   ]
  },
  {
   "cell_type": "code",
   "execution_count": 17,
   "metadata": {},
   "outputs": [],
   "source": [
    "keys_conf_rate = df_prep.groupby(\"keyword\")[\"target\"].mean()"
   ]
  },
  {
   "cell_type": "code",
   "execution_count": 18,
   "metadata": {},
   "outputs": [
    {
     "data": {
      "image/png": "[encoded data removed]",
      "text/plain": [
       "<Figure size 800x600 with 1 Axes>"
      ]
     },
     "metadata": {},
     "output_type": "display_data"
    }
   ],
   "source": [
    "plt.figure(figsize=(8, 6))\n",
    "\n",
    "ax = keys_conf_rate[keys_conf_rate > 0.8].sort_values().plot(kind=\"barh\")\n",
    "\n",
    "plt.title(\"Keywords association with real disasters\")\n",
    "plt.ylabel(None)\n",
    "plt.xlabel(\"Confidence rate\")\n",
    "plt.bar_label(\n",
    "    ax.containers[0],\n",
    "    labels=[np.round(val, 2) for val in ax.containers[0].datavalues],\n",
    ")\n",
    "plt.show()"
   ]
  },
  {
   "cell_type": "code",
   "execution_count": 19,
   "metadata": {},
   "outputs": [],
   "source": [
    "# df_train = df_train.merge(\n",
    "#     keys_confidence.reset_index().rename({\"target\": \"keyword_confidence\"}, axis=1),\n",
    "#     how=\"left\",\n",
    "#     on=\"keyword\",\n",
    "# )"
   ]
  },
  {
   "attachments": {},
   "cell_type": "markdown",
   "metadata": {},
   "source": [
    "### Tweet extra informations : hashtags, mentions, links"
   ]
  },
  {
   "attachments": {},
   "cell_type": "markdown",
   "metadata": {},
   "source": [
    "Not that many tweets have a hashtag and/or a mention.  \n",
    "More than 50% of tweets have at least 1 link."
   ]
  },
  {
   "cell_type": "code",
   "execution_count": 20,
   "metadata": {},
   "outputs": [
    {
     "name": "stdout",
     "output_type": "stream",
     "text": [
      "No hashtag ----- 0.7710495205569421\n",
      "No link -------- 0.4783922238276632\n",
      "No mention ----- 0.7361092867463549\n"
     ]
    }
   ],
   "source": [
    "for info in [\"hashtag\", \"link\", \"mention\"]:\n",
    "    query = df_prep.query(f'{info} == \"no\"')\n",
    "    print(f\"No {info + ' ':-<13} {query.shape[0] / df_prep.shape[0]}\")"
   ]
  },
  {
   "attachments": {},
   "cell_type": "markdown",
   "metadata": {},
   "source": [
    "Relation with target"
   ]
  },
  {
   "cell_type": "code",
   "execution_count": null,
   "metadata": {},
   "outputs": [],
   "source": []
  },
  {
   "attachments": {},
   "cell_type": "markdown",
   "metadata": {},
   "source": [
    "## Apply sentiment analysis models"
   ]
  },
  {
   "attachments": {},
   "cell_type": "markdown",
   "metadata": {},
   "source": [
    "### VADER model"
   ]
  },
  {
   "cell_type": "code",
   "execution_count": 21,
   "metadata": {},
   "outputs": [],
   "source": [
    "from nltk.sentiment import SentimentIntensityAnalyzer\n",
    "\n",
    "sia = SentimentIntensityAnalyzer()"
   ]
  },
  {
   "cell_type": "code",
   "execution_count": 22,
   "metadata": {},
   "outputs": [
    {
     "data": {
      "application/vnd.jupyter.widget-view+json": {
       "model_id": "18f3b9bfb0ff4a2ca2e0c15b740c6eb4",
       "version_major": 2,
       "version_minor": 0
      },
      "text/plain": [
       "  0%|          | 0/7613 [00:00<?, ?it/s]"
      ]
     },
     "metadata": {},
     "output_type": "display_data"
    }
   ],
   "source": [
    "def get_vaders_scores(df: pd.DataFrame) -> pd.DataFrame:\n",
    "    \"\"\"Compute VADERS sentiment analysis polarity scores for each row.\"\"\"\n",
    "    df_vaders = df.copy()\n",
    "    vaders = []\n",
    "\n",
    "    for i, row in tqdm(df_vaders.iterrows(), total=len(df_vaders)):\n",
    "        vader = sia.polarity_scores(row[\"text\"])\n",
    "        vader[\"id\"] = row[\"id\"]\n",
    "        vaders.append(vader)\n",
    "\n",
    "    return df_vaders.merge(pd.DataFrame.from_dict(vaders), how=\"left\", on=\"id\")\n",
    "\n",
    "\n",
    "df_vaders = get_vaders_scores(df_prep)"
   ]
  },
  {
   "cell_type": "code",
   "execution_count": 23,
   "metadata": {},
   "outputs": [
    {
     "data": {
      "text/html": [
       "<div>\n",
       "<style scoped>\n",
       "    .dataframe tbody tr th:only-of-type {\n",
       "        vertical-align: middle;\n",
       "    }\n",
       "\n",
       "    .dataframe tbody tr th {\n",
       "        vertical-align: top;\n",
       "    }\n",
       "\n",
       "    .dataframe thead th {\n",
       "        text-align: right;\n",
       "    }\n",
       "</style>\n",
       "<table border=\"1\" class=\"dataframe\">\n",
       "  <thead>\n",
       "    <tr style=\"text-align: right;\">\n",
       "      <th></th>\n",
       "      <th>id</th>\n",
       "      <th>keyword</th>\n",
       "      <th>location</th>\n",
       "      <th>text</th>\n",
       "      <th>target</th>\n",
       "      <th>hashtag</th>\n",
       "      <th>link</th>\n",
       "      <th>mention</th>\n",
       "      <th>neg</th>\n",
       "      <th>neu</th>\n",
       "      <th>pos</th>\n",
       "      <th>compound</th>\n",
       "    </tr>\n",
       "  </thead>\n",
       "  <tbody>\n",
       "    <tr>\n",
       "      <th>0</th>\n",
       "      <td>1</td>\n",
       "      <td>NaN</td>\n",
       "      <td>NaN</td>\n",
       "      <td>deed reason earthquake may allah forgive u</td>\n",
       "      <td>1</td>\n",
       "      <td>earthquake</td>\n",
       "      <td>no</td>\n",
       "      <td>no</td>\n",
       "      <td>0.000</td>\n",
       "      <td>0.704</td>\n",
       "      <td>0.296</td>\n",
       "      <td>0.2732</td>\n",
       "    </tr>\n",
       "    <tr>\n",
       "      <th>1</th>\n",
       "      <td>4</td>\n",
       "      <td>NaN</td>\n",
       "      <td>NaN</td>\n",
       "      <td>forest fire near la ronge sask canada</td>\n",
       "      <td>1</td>\n",
       "      <td>no</td>\n",
       "      <td>no</td>\n",
       "      <td>no</td>\n",
       "      <td>0.286</td>\n",
       "      <td>0.714</td>\n",
       "      <td>0.000</td>\n",
       "      <td>-0.3400</td>\n",
       "    </tr>\n",
       "    <tr>\n",
       "      <th>2</th>\n",
       "      <td>5</td>\n",
       "      <td>NaN</td>\n",
       "      <td>NaN</td>\n",
       "      <td>resident ask shelter place notify officer evacuation shelter place order expect</td>\n",
       "      <td>1</td>\n",
       "      <td>no</td>\n",
       "      <td>no</td>\n",
       "      <td>no</td>\n",
       "      <td>0.000</td>\n",
       "      <td>1.000</td>\n",
       "      <td>0.000</td>\n",
       "      <td>0.0000</td>\n",
       "    </tr>\n",
       "    <tr>\n",
       "      <th>3</th>\n",
       "      <td>6</td>\n",
       "      <td>NaN</td>\n",
       "      <td>NaN</td>\n",
       "      <td>13000 people receive wildfire evacuation order california</td>\n",
       "      <td>1</td>\n",
       "      <td>wildfires</td>\n",
       "      <td>no</td>\n",
       "      <td>no</td>\n",
       "      <td>0.000</td>\n",
       "      <td>1.000</td>\n",
       "      <td>0.000</td>\n",
       "      <td>0.0000</td>\n",
       "    </tr>\n",
       "    <tr>\n",
       "      <th>4</th>\n",
       "      <td>7</td>\n",
       "      <td>NaN</td>\n",
       "      <td>NaN</td>\n",
       "      <td>get sent photo ruby alaska smoke wildfires pour school</td>\n",
       "      <td>1</td>\n",
       "      <td>Alaska wildfires</td>\n",
       "      <td>no</td>\n",
       "      <td>no</td>\n",
       "      <td>0.000</td>\n",
       "      <td>1.000</td>\n",
       "      <td>0.000</td>\n",
       "      <td>0.0000</td>\n",
       "    </tr>\n",
       "  </tbody>\n",
       "</table>\n",
       "</div>"
      ],
      "text/plain": [
       "   id keyword location  \\\n",
       "0   1     NaN      NaN   \n",
       "1   4     NaN      NaN   \n",
       "2   5     NaN      NaN   \n",
       "3   6     NaN      NaN   \n",
       "4   7     NaN      NaN   \n",
       "\n",
       "                                                                              text  \\\n",
       "0                                       deed reason earthquake may allah forgive u   \n",
       "1                                            forest fire near la ronge sask canada   \n",
       "2  resident ask shelter place notify officer evacuation shelter place order expect   \n",
       "3                        13000 people receive wildfire evacuation order california   \n",
       "4                           get sent photo ruby alaska smoke wildfires pour school   \n",
       "\n",
       "   target           hashtag link mention    neg    neu    pos  compound  \n",
       "0       1        earthquake   no      no  0.000  0.704  0.296    0.2732  \n",
       "1       1                no   no      no  0.286  0.714  0.000   -0.3400  \n",
       "2       1                no   no      no  0.000  1.000  0.000    0.0000  \n",
       "3       1         wildfires   no      no  0.000  1.000  0.000    0.0000  \n",
       "4       1  Alaska wildfires   no      no  0.000  1.000  0.000    0.0000  "
      ]
     },
     "execution_count": 23,
     "metadata": {},
     "output_type": "execute_result"
    }
   ],
   "source": [
    "df_vaders.head()"
   ]
  },
  {
   "attachments": {},
   "cell_type": "markdown",
   "metadata": {},
   "source": [
    "Sentiment scores show plausible results :\n",
    "- real disasters mainly seen as negative\n",
    "- false disasters mainly seen as postive\n",
    "- a high neutrality score for each class"
   ]
  },
  {
   "cell_type": "code",
   "execution_count": 24,
   "metadata": {},
   "outputs": [
    {
     "data": {
      "image/png": "[encoded data removed]",
      "text/plain": [
       "<Figure size 1000x500 with 3 Axes>"
      ]
     },
     "metadata": {},
     "output_type": "display_data"
    }
   ],
   "source": [
    "fig, axs = plt.subplots(1, 3, figsize=(10, 5), sharey=True)\n",
    "fig.suptitle(\"VADER sentiment scores by target class\", fontsize=16)\n",
    "\n",
    "for i, score in enumerate([\"pos\", \"neg\", \"neu\"]):\n",
    "    sns.barplot(df_vaders, x=\"target\", y=score, ax=axs[i])\n",
    "    axs[i].set_title(score)\n",
    "    axs[i].set_ylabel(None)\n",
    "\n",
    "plt.tight_layout()\n",
    "plt.show()"
   ]
  },
  {
   "attachments": {},
   "cell_type": "markdown",
   "metadata": {},
   "source": [
    "We would expect a low compound value for real disasters, as it is supposed to represent negative events.  \n",
    "It is pretty much the case in average.\n",
    "\n",
    "However, VADER doesn't recognize language subtilities as irony.  \n",
    "Plus certain real disaster tweets might use informal speech, which can be seen as neutral by the model."
   ]
  },
  {
   "cell_type": "code",
   "execution_count": 25,
   "metadata": {},
   "outputs": [
    {
     "data": {
      "image/png": "[encoded data removed]",
      "text/plain": [
       "<Figure size 640x480 with 1 Axes>"
      ]
     },
     "metadata": {},
     "output_type": "display_data"
    }
   ],
   "source": [
    "sns.barplot(df_vaders, x=\"target\", y=\"compound\")\n",
    "\n",
    "plt.title(\"Compound score by target class\")\n",
    "plt.ylabel(\"avg vader compound\")\n",
    "plt.show()"
   ]
  },
  {
   "attachments": {},
   "cell_type": "markdown",
   "metadata": {},
   "source": [
    "### RoBERTa model"
   ]
  },
  {
   "cell_type": "code",
   "execution_count": null,
   "metadata": {},
   "outputs": [],
   "source": []
  },
  {
   "cell_type": "code",
   "execution_count": null,
   "metadata": {},
   "outputs": [],
   "source": []
  }
 ],
 "metadata": {
  "kernelspec": {
   "display_name": ".venv",
   "language": "python",
   "name": "python3"
  },
  "language_info": {
   "codemirror_mode": {
    "name": "ipython",
    "version": 3
   },
   "file_extension": ".py",
   "mimetype": "text/x-python",
   "name": "python",
   "nbconvert_exporter": "python",
   "pygments_lexer": "ipython3",
   "version": "3.11.0"
  },
  "orig_nbformat": 4
 },
 "nbformat": 4,
 "nbformat_minor": 2
}
